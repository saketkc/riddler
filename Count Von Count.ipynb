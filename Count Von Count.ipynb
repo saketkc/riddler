{
 "cells": [
  {
   "cell_type": "markdown",
   "metadata": {},
   "source": [
    "http://fivethirtyeight.com/features/how-high-can-count-von-count-count/\n",
    "\n",
    "> Count Von Count, the counting count on “Sesame Street,” counts aloud on Twitter. If he counts up by one with each tweet — “One!” “Two!” “Three!” … “Five hundred thirty eight!” etc. — how high can he go before hitting the 140-character limit? Note: The count is enthusiastic and must end all of his tweets with an exclamation point."
   ]
  },
  {
   "cell_type": "code",
   "execution_count": 1,
   "metadata": {
    "collapsed": false
   },
   "outputs": [
    {
     "name": "stdout",
     "output_type": "stream",
     "text": [
      "(111111111111373, 'one hundred eleven quadrillion one hundred eleven billon one hundred eleven million one hundred eleven thousand three hundred seventy three')\n"
     ]
    }
   ],
   "source": [
    "ones_map = ['zero', 'one', 'two', 'three', 'four', 'five', 'six', 'seven', 'eight', 'nine', 'ten', 'eleven', \n",
    "            'twelve', 'thirteen', 'fourteen', 'fifteen', 'sixteen', 'seventeen', 'eighteen', 'nineteen']\n",
    "tens_map = ['', 'ten', 'twenty', 'thirty', 'forty', 'fifty', 'sixty', 'seventy', 'eighty', 'ninety']\n",
    "scales_map = ['hundred', 'thousand', 'million', 'billon', 'trillion', 'quadrillion']\n",
    "\n",
    "def int_to_word(start_n):\n",
    "    start_n = int(start_n)\n",
    "    if start_n <= 19:\n",
    "        return (ones_map[start_n])\n",
    "    elif start_n < 100 and start_n % 10 == 0:\n",
    "        return (tens_map[start_n/10])\n",
    "    elif start_n < 100:\n",
    "        mod = start_n % 10\n",
    "        return(tens_map[(start_n - mod)/10]+ ' ' + ones_map[mod])\n",
    "    elif start_n <= 999:\n",
    "        if start_n % 100 == 0:\n",
    "            return (ones_map[start_n/100] + ' ' + scales_map[0])\n",
    "        else:\n",
    "            return (ones_map[start_n/100] + ' ' + scales_map[0] + ' ' + int_to_word( int(str(start_n)[1:])) )\n",
    "    elif start_n <= 9999:\n",
    "        if start_n % 1000 == 0:\n",
    "            return (ones_map[start_n/1000] + ' ' + scales_map[1])\n",
    "        else:\n",
    "            return (ones_map[start_n/1000] + ' ' + scales_map[1] + ' ' + int_to_word( int(str(start_n)[1:])) )\n",
    "    elif start_n <= 99999:\n",
    "        if start_n % 10000 == 0:\n",
    "            return (tens_map[start_n/10000] + ' ' + scales_map[1])\n",
    "        else:\n",
    "            return (int_to_word( int(str(start_n)[:2])) + ' ' + scales_map[1] + ' ' + int_to_word( int(str(start_n)[2:])) )\n",
    "    elif start_n <= 999999:\n",
    "        return (int_to_word( int(str(start_n)[:3])) + ' ' + scales_map[1] + ' ' + int_to_word( int(str(start_n)[3:])) )\n",
    "    else:\n",
    "        if start_n <= 999999999:\n",
    "            scale = 'million'\n",
    "        elif start_n <= 999999999999:\n",
    "            scale = 'trillion'\n",
    "        elif start_n <= 999999999999999:\n",
    "            scale = 'quadrillion'\n",
    "        string = []\n",
    "        start_str = str(start_n)\n",
    "        count = 0\n",
    "        while len(start_str)>3:\n",
    "            end_str = start_str[-3:]\n",
    "            start_str = start_str[:-3]\n",
    "            if int(end_str) != 0:\n",
    "                if count!=0:\n",
    "                    string.append(int_to_word(end_str) + ' ' + scales_map[count])\n",
    "                else:\n",
    "                    string.append(int_to_word(end_str))            \n",
    "            count+=1\n",
    "        string.append(int_to_word(start_str) + ' {}'.format(scale))\n",
    "        return (' ').join(reversed(string))\n",
    "    \n",
    "    \n",
    "start_n = 111111111111111 \n",
    "stop = False\n",
    "names = []\n",
    "while not stop:    \n",
    "    word = int_to_word(start_n)\n",
    "    if len(word) >= 139:\n",
    "        print(start_n, word)\n",
    "        stop =  True\n",
    "    start_n += 1    "
   ]
  }
 ],
 "metadata": {
  "kernelspec": {
   "display_name": "Python [Root]",
   "language": "python",
   "name": "Python [Root]"
  },
  "language_info": {
   "codemirror_mode": {
    "name": "ipython",
    "version": 2
   },
   "file_extension": ".py",
   "mimetype": "text/x-python",
   "name": "python",
   "nbconvert_exporter": "python",
   "pygments_lexer": "ipython2",
   "version": "2.7.12"
  }
 },
 "nbformat": 4,
 "nbformat_minor": 0
}
