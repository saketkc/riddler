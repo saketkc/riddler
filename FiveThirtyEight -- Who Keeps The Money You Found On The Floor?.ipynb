{
 "cells": [
  {
   "cell_type": "markdown",
   "metadata": {},
   "source": [
    "http://fivethirtyeight.com/features/who-keeps-the-money-you-found-on-the-floor/\n",
    ">  You and four statistician colleagues find a $100 bill on the floor of your department’s faculty lounge. None of you have change, so you agree to play a game of chance to divide the money probabilistically. The five of you sit around a table. The game is played in turns. Each turn, one of three things can happen, each with an equal probability: The bill can move one position to the left, one position to the right, or the game ends and the person with the bill in front of him or her wins the game. You have tenure and seniority, so the bill starts in front of you. What are the chances you win the money?"
   ]
  },
  {
   "cell_type": "markdown",
   "metadata": {},
   "source": [
    "Let me sit at poition $0$, so that the arrangement looks like this:\n",
    "![img](multi.png)\n",
    "\n",
    "Let me also get a dice that gives anyone $\\frac{1}{3}$ chance of winning and equal chance to either pass left or right. Let's call this process a `throw`.\n",
    "\n",
    "I can then win if the total number of throws are $1,3,5,7, \\dots, 2k+1, \\dots$\n",
    "\n",
    "Let $P_0(t)$ represent that I can win when total $t$ throws have happened, and let $P$ be my net chance of winning:\n",
    "\n",
    "$$\n",
    "P = P_0(1) + P_0(3) + P_0(5) + \\dots + P(2k+1) + \\dots\n",
    "$$\n",
    "\n"
   ]
  },
  {
   "cell_type": "markdown",
   "metadata": {},
   "source": [
    "\\begin{align*}\n",
    "P_0(1) &= \\frac{1}{3}\\\\\n",
    "\\end{align*}\n",
    "\n",
    "Now in order to win after $3$ throws, the last throw is mine with probability $\\frac{1}{3}$ of winning and the other two throws can have 2 possibilites:\n",
    "\n",
    "$0 -> 1 -> 0$ or $0 -> 4 -> 0$\n",
    "where $x -> y$ indicates $x$'s throw landed on $y$.($x \\neq y$)\n",
    "\n",
    "Eventually before the last trial, the ball should be either at position $1$ or $4$.\n",
    "\n",
    "In $2k$ throws, the \\$100 note should have reached me before I finally win (in the $2k+1$ th throw)\n",
    "\n",
    "So in $2k$ throws, the number of left and right moves should even out which can happen in $\\binom{2k}{k}$ ways\n"
   ]
  },
  {
   "cell_type": "markdown",
   "metadata": {},
   "source": [
    "\\begin{align*}\n",
    "P_0(3) &= \\big( \\frac{1}{3} \\big)^3 \\times \\binom{2}{1}\\\\\n",
    "P_0(5) &= \\big( \\frac{1}{3} \\big)^5 \\times \\binom{4}{2}\\\\\n",
    "P_0(2k+1) &= \\big( \\frac{1}{3} \\big)^{2k+1} \\times \\binom{2k}{k}\\\\\n",
    "\\end{align*}\n",
    "\n",
    "Now, notice\n",
    "\n",
    "\n",
    "\\begin{align*}\n",
    "P &= \\frac{1}{3} + \\big( \\frac{1}{3} \\big)^3 \\times \\binom{2}{1} + \\big( \\frac{1}{3} \\big)^5 \\times \\binom{4}{2} + \\dots +\n",
    "\\big( \\frac{1}{3} \\big)^{2k+1} \\times \\binom{2k}{k} + \\dots\\\\\n",
    "&= \\frac{1}{3} \\big(1 + \\big( \\frac{1}{3} \\big)^2 \\times \\binom{2}{1} + \\big( \\frac{1}{3} \\big)^4 \\times \\binom{4}{2} + \\dots +\n",
    "\\big( \\frac{1}{3} \\big)^{2k} \\times \\binom{2k}{k} + \\dots \\big)\\\\\n",
    "&= \\frac{1}{3}\\sum_{k=0} \\left( \\frac{1}{9} \\right) ^k \\binom{2k}{k}\\\\\n",
    "&= \\frac{1}{3} \\times \\frac{1}{\\sqrt{1-\\frac{4}{9}}} \\\\\n",
    "&= \\frac{1}{\\sqrt{5}} \n",
    "\\end{align*}\n",
    "\n",
    "For last penultimate equation see https://en.wikipedia.org/wiki/Central_binomial_coefficient#Properties\n",
    "\n",
    "Thus, $P=0.4472$\n",
    "\n"
   ]
  },
  {
   "cell_type": "markdown",
   "metadata": {},
   "source": [
    "## Extra credit: What if there were N statisticians in the department?\n",
    "\n",
    "\n",
    "The answer remains the same. because the number of possible ways for the $100 note to reach me, remains the same."
   ]
  },
  {
   "cell_type": "markdown",
   "metadata": {},
   "source": [
    "## Simuation"
   ]
  },
  {
   "cell_type": "code",
   "execution_count": 10,
   "metadata": {
    "collapsed": false
   },
   "outputs": [],
   "source": [
    "from __future__ import division\n",
    "import numpy as np\n",
    "\n",
    "N_trials = 1000000\n",
    "n_shuffles = 10\n",
    "state_space = [-1, 0 ,1 ]\n",
    "\n",
    "def run_simulation(n_persons):\n",
    "    p_0 = []\n",
    "    for j in range(0, n_shuffles):\n",
    "        selected_states = []\n",
    "        for i in range(0, N_trials):\n",
    "            current_state = 0\n",
    "            while True:\n",
    "                next_throw = np.random.choice(state_space)\n",
    "                if next_throw == 0:\n",
    "                    selected_states.append(current_state)\n",
    "                    break\n",
    "                current_state = current_state + next_throw\n",
    "                if current_state == -1:\n",
    "                    current_state = n_persons-1\n",
    "                if current_state == n_persons:\n",
    "                    current_state = 0\n",
    "        p_0.append(selected_states.count(0)/len(selected_states))\n",
    "    return p_0"
   ]
  },
  {
   "cell_type": "code",
   "execution_count": 12,
   "metadata": {
    "collapsed": false
   },
   "outputs": [
    {
     "name": "stdout",
     "output_type": "stream",
     "text": [
      "Probability with n_persons = 5 : 0.4542379\n",
      "Probability with n_persons = 50 : 0.4469723\n",
      "Probability with n_persons = 100 : 0.4472254\n"
     ]
    }
   ],
   "source": [
    "print 'Probability with n_persons = 5 : {}'.format(np.mean(run_simulation(5)))\n",
    "print 'Probability with n_persons = 50 : {}'.format(np.mean(run_simulation(50)))\n",
    "print 'Probability with n_persons = 100 : {}'.format(np.mean(run_simulation(100)))"
   ]
  }
 ],
 "metadata": {
  "kernelspec": {
   "display_name": "Python [Root]",
   "language": "python",
   "name": "Python [Root]"
  },
  "language_info": {
   "codemirror_mode": {
    "name": "ipython",
    "version": 2
   },
   "file_extension": ".py",
   "mimetype": "text/x-python",
   "name": "python",
   "nbconvert_exporter": "python",
   "pygments_lexer": "ipython2",
   "version": "2.7.12"
  }
 },
 "nbformat": 4,
 "nbformat_minor": 1
}
