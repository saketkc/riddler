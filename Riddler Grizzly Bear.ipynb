{
 "cells": [
  {
   "cell_type": "markdown",
   "metadata": {},
   "source": [
    "# Should The Grizzly Bear Eat The Salmon?\n",
    "\n",
    "http://fivethirtyeight.com/features/should-the-grizzly-bear-eat-the-salmon/\n",
    "\n",
    "> A grizzly bear stands in the shallows of a river during salmon spawning season. Precisely once every hour, a fish swims within its reach. The bear can either catch the fish and eat it, or let it swim past to safety. This grizzly is, as many grizzlies are, persnickety. It’ll only eat fish that are at least as big as every fish it ate before.\n",
    "\n",
    "> Each fish weighs some amount, randomly and uniformly distributed between 0 and 1 kilogram. (Each fish’s weight is independent of the others, and the skilled bear can tell how much each weighs just by looking at it.) The bear wants to maximize its intake of salmon, as measured in kilograms. Suppose the bear’s fishing expedition is two hours long. Under what circumstances should it eat the first fish within its reach? What if the expedition is three hours long?\n",
    "\n"
   ]
  },
  {
   "cell_type": "markdown",
   "metadata": {},
   "source": [
    "$w_1, w_2$ are weight observed at 1st and 2nd hour, then $W_1, W_2 \\sim U(0,1)$\n",
    "There is a slight abuse of notations in the following. $W_1,W_2$ are the random variables and\n"
   ]
  },
  {
   "cell_type": "markdown",
   "metadata": {
    "collapsed": true
   },
   "source": [
    "**Case 1:** First fish eaten\n",
    "    \n",
    "Then the second fish can be eaten only if $w_2>w_1 (P(w_2>w_1) = 1-w_1)$\n",
    "Since the first fish was eaten the total weight that can be accumulated is $w_1 + E[w_2|w_2>w_1]$\n",
    "\n",
    "\n",
    "$E[w_2|w_2>w_1] = \\int_{w_1}^2 w_2P(W_2)  = \\frac{1-w_1^2}{2}$ \n",
    "\n",
    "Thus total accumulate dweight: $w_1+\\frac{1-w_1^2}{2}$\n",
    "\n",
    "**Case 2:** First fish skipped\n",
    "\n",
    "Since the first fish is not eaten, the expected accumuation can only be $E[W_2] = \\frac{1}{2}$\n",
    "    \n",
    "    \n",
    "So the first fish can be eaten Case 1 has an expected adantage over Case 2. $w_1+\\frac{1-w_1^2}{2} \\geq \\frac{1}{2}$ $\\implies$ $ w_1 \\leq 2$  which is always true! \n",
    "\n",
    "**Hence the first fish should ALWAYS be eaten.**\n",
    "\n",
    "\n",
    "\n",
    "    \n",
    "        \n",
    "    "
   ]
  },
  {
   "cell_type": "markdown",
   "metadata": {},
   "source": [
    "In case of three fishes. \n",
    "\n",
    "**Case 1:** First fish not eaten\n",
    "\n",
    "        Then the remaining two fishes is like the two fish scenario above. The expected accumulation is \n",
    "$E[W_2] +E[W_3|W_3>W_2] = \\int_0^1 w_2 dw_2 + \\int_0^1 \\frac{1-w_2^2}{2}dw_2 = \\frac{w_2^2}{2}|_0^1 + \\frac{w_2}{2} - \\frac{w_2^3}{6} = \\frac{1}{2} + \\frac{1}{2} - \\frac{1}{6} = \\frac{5}{6}$\n",
    "        \n",
    "\n",
    "**Case 2:** First fish eaten\n",
    "\n",
    "Since the first fish is eaten $w_1$ is guaranteed. Then it turns into further two cases depending on $w_2 \\geq w_1$ or $w_2 < w_1$ \n",
    "\n",
    "**Case 2a:** If $w_2 < w_1$ then second fish cannot be eaten and third will be eaten based on $w_3 > w_1$, (two fish criterion including the first fish. $P(w_2<w_1)=w_1$)\n",
    "\n",
    "**Case 2b:** If $w_2 \\geq w_1$ the two remaining fishes can be eaten and form a two fish scenario together\n",
    "\n",
    "\n",
    " thus the expectation being $w_1 + w_1\\frac{1-w_1^2}{2} + \\int_{w_1}^1 \\left( w_2 + \\frac{1-w_2^2}{2} \\right) dw_2 = w_1+w_1\\frac{1-w_1^2}{2}+ \\frac{1-w_1^2}{2} + \\frac{1-w_1}{2} - \\frac{1-w_1^3}{6} = \\frac{5}{6} -\\frac{w_1^2}{2} + w_1 -  \\frac{w_1^3}{3} $ \n",
    "\n",
    "\n",
    "For first fish to be eaten: $\\frac{5}{6} \\leq \\frac{5}{6} -\\frac{w_1^2}{2} + w_1 -  \\frac{w_1^3}{3}$  or $ w_1^3 + 3\\frac{w_1^2}{2} - 3 w_1  \\leq 0  $ or $w_1^2+1.5w_1-3 \\leq 0$\n",
    "\n",
    "Since $w_1 \\leq 1$ the above inequality is always satisfied and so the first fish should ALWAYS be eaten.\n"
   ]
  }
 ],
 "metadata": {
  "kernelspec": {
   "display_name": "Python 3",
   "language": "python",
   "name": "python3"
  },
  "language_info": {
   "codemirror_mode": {
    "name": "ipython",
    "version": 3
   },
   "file_extension": ".py",
   "mimetype": "text/x-python",
   "name": "python",
   "nbconvert_exporter": "python",
   "pygments_lexer": "ipython3",
   "version": "3.5.1"
  }
 },
 "nbformat": 4,
 "nbformat_minor": 0
}
