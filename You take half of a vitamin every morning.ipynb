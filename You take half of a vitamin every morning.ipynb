{
 "cells": [
  {
   "cell_type": "markdown",
   "metadata": {
    "run_control": {
     "frozen": false,
     "read_only": false
    }
   },
   "source": [
    "https://fivethirtyeight.com/features/work-a-shift-in-the-riddler-gift-shop/\n",
    "> You take half of a vitamin every morning. The vitamins are sold in a bottle of 100 (whole) tablets, so at first you have to cut the tablets in half. Every day you randomly pull one thing from the bottle — if it’s a whole tablet, you cut it in half and put the leftover half back in the bottle. If it’s a half-tablet, you take the vitamin. You just bought a fresh bottle. How many days, on average, will it be before you pull a half-tablet out of the bottle?\n",
    "\n"
   ]
  },
  {
   "cell_type": "markdown",
   "metadata": {
    "run_control": {
     "frozen": false,
     "read_only": false
    }
   },
   "source": [
    "Let $I_i = \\begin{cases} 1 &\\text{first $i$ draws are whole tablets}\\\\0 & \\text{otherwise} \\end{cases}$, then the number of days $D$ before a half-tablet is drawn out is $D=\\sum_{i=1}^n I$ where $n=100$\n",
    "\n",
    "$\\mathbb{E}[D] = \\sum_{i=1}^n EI_i = \\sum_{i=1}^n P[I_i=1]$\n",
    "\n",
    "When the first $i$ draws are all whole tablets, the total number of tables at any point remains the same as the original $n$, and the number of half tablets increase.\n",
    "\n",
    "$$\n",
    "\\begin{align*}\n",
    "P(I_1=1) &= 1\\\\\n",
    "P(I_2=1) &= 1 * \\frac{n-1}{n-1+1} \\\\\n",
    "P(I_3=1) &= 1 * \\frac{n-1}{n-1+1} * \\frac{n-2}{n-1+1} \\\\\n",
    "\\vdots \\\\\n",
    "P(I_k=1) &= \\frac{n}{n} * \\frac{n-1}{n} * \\frac{n-2}{n} * \\dots * \\frac{n-(k-1)}{n} \\\\\n",
    "&= \\frac{n!}{(n-k)!n^{k}}\n",
    "\\end{align*}\n",
    "$$\n",
    "\n",
    "Thus,\n",
    "$$\\begin{align*}E[D] &= \\sum_{k=1}^n \\frac{n!}{(n-k)!n^{k}}\\\\\n",
    "&= \\sum_{k=0}^{n-1} \\frac{n!}{k!n^{n-k}} \\text{(by symmetry)}\\\\\n",
    "&= \\frac{n!}{n^n} \\sum_{k=0}^{n-1}  \\frac{n^k}{k!} \\end{align*}$$  \n",
    " "
   ]
  },
  {
   "cell_type": "code",
   "execution_count": 1,
   "metadata": {
    "collapsed": true,
    "run_control": {
     "frozen": false,
     "read_only": false
    }
   },
   "outputs": [],
   "source": [
    "import math\n",
    "n = 100\n",
    "D = math.factorial(n)/n**n * sum([n**k/math.factorial(k) for k in range(0, n)])\n"
   ]
  },
  {
   "cell_type": "code",
   "execution_count": 2,
   "metadata": {
    "run_control": {
     "frozen": false,
     "read_only": false
    }
   },
   "outputs": [
    {
     "data": {
      "text/plain": [
       "12.209960630215981"
      ]
     },
     "execution_count": 2,
     "metadata": {},
     "output_type": "execute_result"
    }
   ],
   "source": [
    "D"
   ]
  },
  {
   "cell_type": "markdown",
   "metadata": {},
   "source": [
    "> Extra credit: What if the halves are less likely to come up than the full tablets? They are smaller, after all."
   ]
  },
  {
   "cell_type": "markdown",
   "metadata": {},
   "source": [
    "Consider that the half-tablet also has half the probability of being picked up as compared to whole tablet.\n",
    "\n",
    "$$\n",
    "\\begin{align*}\n",
    "P(I_1=1) &= 1\\\\\n",
    "P(I_2=1) &= 1 * (1-\\frac{1}{2n}) \\\\\n",
    "P(I_3=1) &= 1 * (1-\\frac{1}{2n}) * (1-\\frac{2}{2n}) \\\\\n",
    "\\vdots \\\\\n",
    "P(I_k=1) &= \\frac{2n}{2n} * \\frac{2n-1}{2n} * \\frac{2n-2}{2n} * \\dots * \\frac{2n-(k-1)}{2n} \\\\\n",
    "&= \\frac{2n!}{(2n-k)!(2n)^{k}}\n",
    "\\end{align*}\n",
    "$$\n",
    "\n",
    "Thus,\n",
    "\n",
    "$$\\begin{align*}E[D] &= \\sum_{k=1}^n \\frac{2n!}{(2n-k)!(2n)^{k}}\\\\\n",
    "&=  \\frac{2n!}{(2n)^n} \\sum_{k=0}^n \\frac{(2n)^k}{(n+k)!}\\end{align*}$$  \n"
   ]
  },
  {
   "cell_type": "code",
   "execution_count": 3,
   "metadata": {},
   "outputs": [
    {
     "data": {
      "text/plain": [
       "17.39844385537908"
      ]
     },
     "execution_count": 3,
     "metadata": {},
     "output_type": "execute_result"
    }
   ],
   "source": [
    "D = math.factorial(2*n)/(2*n)**n * sum([(2*n)**k/math.factorial(n+k) for k in range(0, n)])\n",
    "D"
   ]
  },
  {
   "cell_type": "code",
   "execution_count": null,
   "metadata": {
    "collapsed": true
   },
   "outputs": [],
   "source": []
  }
 ],
 "metadata": {
  "hide_input": false,
  "kernelspec": {
   "display_name": "Python [conda env:csci599]",
   "language": "python",
   "name": "conda-env-csci599-py"
  },
  "language_info": {
   "codemirror_mode": {
    "name": "ipython",
    "version": 3
   },
   "file_extension": ".py",
   "mimetype": "text/x-python",
   "name": "python",
   "nbconvert_exporter": "python",
   "pygments_lexer": "ipython3",
   "version": "3.5.4"
  },
  "latex_envs": {
   "LaTeX_envs_menu_present": true,
   "autocomplete": true,
   "bibliofile": "biblio.bib",
   "cite_by": "apalike",
   "current_citInitial": 1,
   "eqLabelWithNumbers": true,
   "eqNumInitial": 1,
   "hotkeys": {
    "equation": "Ctrl-E",
    "itemize": "Ctrl-I"
   },
   "labels_anchors": false,
   "latex_user_defs": false,
   "report_style_numbering": false,
   "user_envs_cfg": false
  },
  "toc": {
   "colors": {
    "hover_highlight": "#DAA520",
    "running_highlight": "#FF0000",
    "selected_highlight": "#FFD700"
   },
   "moveMenuLeft": true,
   "nav_menu": {
    "height": "12px",
    "width": "252px"
   },
   "navigate_menu": true,
   "number_sections": true,
   "sideBar": true,
   "threshold": 4,
   "toc_cell": false,
   "toc_section_display": "block",
   "toc_window_display": true,
   "widenNotebook": false
  }
 },
 "nbformat": 4,
 "nbformat_minor": 2
}
